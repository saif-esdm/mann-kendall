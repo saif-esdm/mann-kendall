{
 "cells": [
  {
   "cell_type": "code",
   "execution_count": 1,
   "id": "e7ded1ce-eab2-4ba3-ac34-6ee022edc81c",
   "metadata": {},
   "outputs": [],
   "source": [
    "import pandas as pd\n",
    "import numpy as np\n",
    "import pymannkendall as mk"
   ]
  },
  {
   "cell_type": "code",
   "execution_count": 2,
   "id": "03ae2ff0-e5dc-45f2-a053-60707e2b7fa6",
   "metadata": {},
   "outputs": [
    {
     "data": {
      "text/html": [
       "<div>\n",
       "<style scoped>\n",
       "    .dataframe tbody tr th:only-of-type {\n",
       "        vertical-align: middle;\n",
       "    }\n",
       "\n",
       "    .dataframe tbody tr th {\n",
       "        vertical-align: top;\n",
       "    }\n",
       "\n",
       "    .dataframe thead th {\n",
       "        text-align: right;\n",
       "    }\n",
       "</style>\n",
       "<table border=\"1\" class=\"dataframe\">\n",
       "  <thead>\n",
       "    <tr style=\"text-align: right;\">\n",
       "      <th></th>\n",
       "      <th>Year</th>\n",
       "      <th>Day</th>\n",
       "      <th>Barishal</th>\n",
       "      <th>Bhola</th>\n",
       "      <th>Bogra</th>\n",
       "      <th>Chittagong</th>\n",
       "      <th>Coxs_Bazar</th>\n",
       "      <th>Cumilla</th>\n",
       "      <th>Dhaka</th>\n",
       "      <th>Faridpur</th>\n",
       "      <th>...</th>\n",
       "      <th>Madaripur</th>\n",
       "      <th>Mymensingh</th>\n",
       "      <th>Rajshahi</th>\n",
       "      <th>Rangamati</th>\n",
       "      <th>Rangpur</th>\n",
       "      <th>Sandwip</th>\n",
       "      <th>Satkhira</th>\n",
       "      <th>Sitakunda</th>\n",
       "      <th>Sylhet</th>\n",
       "      <th>Teknaf</th>\n",
       "    </tr>\n",
       "  </thead>\n",
       "  <tbody>\n",
       "    <tr>\n",
       "      <th>0</th>\n",
       "      <td>1980.0</td>\n",
       "      <td>1.0</td>\n",
       "      <td>26.1</td>\n",
       "      <td>25.4</td>\n",
       "      <td>-99.9</td>\n",
       "      <td>25.1</td>\n",
       "      <td>25.7</td>\n",
       "      <td>25.0</td>\n",
       "      <td>24.7</td>\n",
       "      <td>1.0</td>\n",
       "      <td>...</td>\n",
       "      <td>26.5</td>\n",
       "      <td>23.6</td>\n",
       "      <td>23.8</td>\n",
       "      <td>26.0</td>\n",
       "      <td>21.6</td>\n",
       "      <td>26.8</td>\n",
       "      <td>27.9</td>\n",
       "      <td>25.5</td>\n",
       "      <td>24.1</td>\n",
       "      <td>27.0</td>\n",
       "    </tr>\n",
       "    <tr>\n",
       "      <th>1</th>\n",
       "      <td>1980.0</td>\n",
       "      <td>2.0</td>\n",
       "      <td>27.0</td>\n",
       "      <td>27.2</td>\n",
       "      <td>16.7</td>\n",
       "      <td>25.5</td>\n",
       "      <td>25.0</td>\n",
       "      <td>25.0</td>\n",
       "      <td>21.1</td>\n",
       "      <td>24.3</td>\n",
       "      <td>...</td>\n",
       "      <td>25.6</td>\n",
       "      <td>17.5</td>\n",
       "      <td>18.4</td>\n",
       "      <td>25.1</td>\n",
       "      <td>20.0</td>\n",
       "      <td>25.7</td>\n",
       "      <td>25.6</td>\n",
       "      <td>26.0</td>\n",
       "      <td>19.4</td>\n",
       "      <td>27.1</td>\n",
       "    </tr>\n",
       "    <tr>\n",
       "      <th>2</th>\n",
       "      <td>1980.0</td>\n",
       "      <td>3.0</td>\n",
       "      <td>21.8</td>\n",
       "      <td>23.4</td>\n",
       "      <td>23.1</td>\n",
       "      <td>26.0</td>\n",
       "      <td>27.0</td>\n",
       "      <td>23.3</td>\n",
       "      <td>22.8</td>\n",
       "      <td>19.2</td>\n",
       "      <td>...</td>\n",
       "      <td>23.0</td>\n",
       "      <td>24.6</td>\n",
       "      <td>21.0</td>\n",
       "      <td>26.1</td>\n",
       "      <td>20.5</td>\n",
       "      <td>25.2</td>\n",
       "      <td>24.0</td>\n",
       "      <td>-99.9</td>\n",
       "      <td>25.3</td>\n",
       "      <td>28.5</td>\n",
       "    </tr>\n",
       "    <tr>\n",
       "      <th>3</th>\n",
       "      <td>1980.0</td>\n",
       "      <td>4.0</td>\n",
       "      <td>25.1</td>\n",
       "      <td>25.4</td>\n",
       "      <td>24.4</td>\n",
       "      <td>26.7</td>\n",
       "      <td>28.0</td>\n",
       "      <td>25.6</td>\n",
       "      <td>25.0</td>\n",
       "      <td>20.4</td>\n",
       "      <td>...</td>\n",
       "      <td>25.7</td>\n",
       "      <td>25.6</td>\n",
       "      <td>22.6</td>\n",
       "      <td>27.2</td>\n",
       "      <td>22.1</td>\n",
       "      <td>26.2</td>\n",
       "      <td>25.0</td>\n",
       "      <td>27.0</td>\n",
       "      <td>25.6</td>\n",
       "      <td>29.2</td>\n",
       "    </tr>\n",
       "    <tr>\n",
       "      <th>4</th>\n",
       "      <td>1980.0</td>\n",
       "      <td>5.0</td>\n",
       "      <td>23.9</td>\n",
       "      <td>-99.9</td>\n",
       "      <td>24.4</td>\n",
       "      <td>24.0</td>\n",
       "      <td>-99.9</td>\n",
       "      <td>24.4</td>\n",
       "      <td>25.6</td>\n",
       "      <td>23.3</td>\n",
       "      <td>...</td>\n",
       "      <td>24.3</td>\n",
       "      <td>24.1</td>\n",
       "      <td>22.6</td>\n",
       "      <td>26.2</td>\n",
       "      <td>23.0</td>\n",
       "      <td>25.8</td>\n",
       "      <td>24.4</td>\n",
       "      <td>25.0</td>\n",
       "      <td>25.9</td>\n",
       "      <td>28.5</td>\n",
       "    </tr>\n",
       "  </tbody>\n",
       "</table>\n",
       "<p>5 rows × 27 columns</p>\n",
       "</div>"
      ],
      "text/plain": [
       "     Year  Day  Barishal  Bhola  Bogra  Chittagong  Coxs_Bazar  Cumilla  \\\n",
       "0  1980.0  1.0      26.1   25.4  -99.9        25.1        25.7     25.0   \n",
       "1  1980.0  2.0      27.0   27.2   16.7        25.5        25.0     25.0   \n",
       "2  1980.0  3.0      21.8   23.4   23.1        26.0        27.0     23.3   \n",
       "3  1980.0  4.0      25.1   25.4   24.4        26.7        28.0     25.6   \n",
       "4  1980.0  5.0      23.9  -99.9   24.4        24.0       -99.9     24.4   \n",
       "\n",
       "   Dhaka  Faridpur  ...  Madaripur  Mymensingh  Rajshahi  Rangamati  Rangpur  \\\n",
       "0   24.7       1.0  ...       26.5        23.6      23.8       26.0     21.6   \n",
       "1   21.1      24.3  ...       25.6        17.5      18.4       25.1     20.0   \n",
       "2   22.8      19.2  ...       23.0        24.6      21.0       26.1     20.5   \n",
       "3   25.0      20.4  ...       25.7        25.6      22.6       27.2     22.1   \n",
       "4   25.6      23.3  ...       24.3        24.1      22.6       26.2     23.0   \n",
       "\n",
       "   Sandwip  Satkhira  Sitakunda  Sylhet  Teknaf  \n",
       "0     26.8      27.9       25.5    24.1    27.0  \n",
       "1     25.7      25.6       26.0    19.4    27.1  \n",
       "2     25.2      24.0      -99.9    25.3    28.5  \n",
       "3     26.2      25.0       27.0    25.6    29.2  \n",
       "4     25.8      24.4       25.0    25.9    28.5  \n",
       "\n",
       "[5 rows x 27 columns]"
      ]
     },
     "execution_count": 2,
     "metadata": {},
     "output_type": "execute_result"
    }
   ],
   "source": [
    "df=pd.read_csv(\"Tmax_all_station.csv\")\n",
    "df.head()"
   ]
  },
  {
   "cell_type": "code",
   "execution_count": 7,
   "id": "2fed7048-0973-4fa7-bf16-59d36ccba513",
   "metadata": {},
   "outputs": [
    {
     "name": "stdout",
     "output_type": "stream",
     "text": [
      "Mann_Kendall_Test(trend='increasing', h=True, p=0.0, z=13.51672698463762, Tau=0.07108209962968853, s=9178866.0, var_s=461142214860.0, slope=8.232711306256783e-05, intercept=31.338501646542266)\n"
     ]
    }
   ],
   "source": [
    "result=mk.original_test(df['Khulna'])\n",
    "print(result)"
   ]
  },
  {
   "cell_type": "code",
   "execution_count": 4,
   "id": "249cd21e-3a09-4d9a-813f-75ec32ee2e18",
   "metadata": {},
   "outputs": [],
   "source": [
    "trend, h, p, z, Tau, s, var_s, slope, intercept=result"
   ]
  },
  {
   "cell_type": "code",
   "execution_count": 5,
   "id": "0631877f-8c5d-4b62-a2c7-6bcc97949f70",
   "metadata": {},
   "outputs": [
    {
     "name": "stdout",
     "output_type": "stream",
     "text": [
      "increasing True 0.0 13.51672698463762 0.07108209962968853 8.232711306256783e-05\n"
     ]
    }
   ],
   "source": [
    "print(trend, h, p, z, Tau, slope)"
   ]
  },
  {
   "cell_type": "code",
   "execution_count": null,
   "id": "7009a488-a70d-4e80-93a9-59f73123998d",
   "metadata": {},
   "outputs": [],
   "source": []
  },
  {
   "cell_type": "code",
   "execution_count": 8,
   "id": "54791f5b-ccdb-4ec2-8438-ca1d78e0e936",
   "metadata": {},
   "outputs": [
    {
     "name": "stdout",
     "output_type": "stream",
     "text": [
      "Modified_Mann_Kendall_Test_Hamed_Rao_Approach(trend='increasing', h=True, p=1.0651479698253752e-12, z=7.121821249185769, Tau=0.07108209962968853, s=9178866.0, var_s=1661100185204.633, slope=8.232711306256783e-05, intercept=31.338501646542266)\n"
     ]
    }
   ],
   "source": [
    "result=mk.hamed_rao_modification_test(df['Khulna'])\n",
    "print(result)"
   ]
  },
  {
   "cell_type": "code",
   "execution_count": null,
   "id": "595bcf78-4ccd-4439-9590-fd2bc736dc72",
   "metadata": {},
   "outputs": [],
   "source": []
  },
  {
   "cell_type": "code",
   "execution_count": null,
   "id": "1fc259d4-fb63-4200-a995-7c847f2f3c34",
   "metadata": {},
   "outputs": [],
   "source": []
  },
  {
   "cell_type": "code",
   "execution_count": null,
   "id": "4654a1ea-2923-41c7-a982-96bcea5bc37f",
   "metadata": {},
   "outputs": [],
   "source": []
  },
  {
   "cell_type": "code",
   "execution_count": null,
   "id": "5c9fc13e-f48a-435c-99e9-3302afe52dd0",
   "metadata": {},
   "outputs": [],
   "source": []
  },
  {
   "cell_type": "code",
   "execution_count": null,
   "id": "69a48e62-29ac-4896-9bf4-4caa318ca604",
   "metadata": {},
   "outputs": [],
   "source": []
  },
  {
   "cell_type": "code",
   "execution_count": null,
   "id": "dd05c961-a182-421e-a593-34409de810db",
   "metadata": {},
   "outputs": [],
   "source": []
  },
  {
   "cell_type": "code",
   "execution_count": null,
   "id": "6b84ecfc-c6e3-440d-a739-5b52ab19668e",
   "metadata": {},
   "outputs": [],
   "source": []
  },
  {
   "cell_type": "code",
   "execution_count": null,
   "id": "72a962ff-1b6e-4b93-a3f6-f9cb5548900d",
   "metadata": {},
   "outputs": [],
   "source": []
  },
  {
   "cell_type": "code",
   "execution_count": null,
   "id": "8c77edba-5e5a-4565-8589-b50d31d6ec3b",
   "metadata": {},
   "outputs": [],
   "source": []
  }
 ],
 "metadata": {
  "kernelspec": {
   "display_name": "Python 3 (ipykernel)",
   "language": "python",
   "name": "python3"
  },
  "language_info": {
   "codemirror_mode": {
    "name": "ipython",
    "version": 3
   },
   "file_extension": ".py",
   "mimetype": "text/x-python",
   "name": "python",
   "nbconvert_exporter": "python",
   "pygments_lexer": "ipython3",
   "version": "3.9.15"
  }
 },
 "nbformat": 4,
 "nbformat_minor": 5
}
